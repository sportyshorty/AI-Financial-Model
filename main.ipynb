{
 "cells": [
  {
   "cell_type": "code",
   "execution_count": null,
   "id": "2845fe32-a2b0-47b4-aab5-24e6a42b443b",
   "metadata": {},
   "outputs": [],
   "source": []
  }
 ],
 "metadata": {
  "kernelspec": {
   "display_name": "",
   "name": ""
  },
  "language_info": {
   "name": ""
  }
 },
 "nbformat": 4,
 "nbformat_minor": 5
}
